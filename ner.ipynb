{
 "cells": [
  {
   "cell_type": "code",
   "execution_count": 1,
   "metadata": {
    "colab": {
     "base_uri": "https://localhost:8080/"
    },
    "execution": {
     "iopub.execute_input": "2025-04-26T12:09:52.118723Z",
     "iopub.status.busy": "2025-04-26T12:09:52.118003Z",
     "iopub.status.idle": "2025-04-26T12:09:57.665459Z",
     "shell.execute_reply": "2025-04-26T12:09:57.664758Z",
     "shell.execute_reply.started": "2025-04-26T12:09:52.118693Z"
    },
    "id": "1WLZIwd0BA0J",
    "outputId": "8e5f9d96-3f02-4d77-f60b-fbf3d731bf4b"
   },
   "outputs": [
    {
     "name": "stdout",
     "output_type": "stream",
     "text": [
      "\u001b[?25l     \u001b[90m━━━━━━━━━━━━━━━━━━━━━━━━━━━━━━━━━━━━━━━━\u001b[0m \u001b[32m0.0/43.6 kB\u001b[0m \u001b[31m?\u001b[0m eta \u001b[36m-:--:--\u001b[0m\r",
      "\u001b[2K     \u001b[90m━━━━━━━━━━━━━━━━━━━━━━━━━━━━━━━━━━━━━━━━\u001b[0m \u001b[32m43.6/43.6 kB\u001b[0m \u001b[31m2.8 MB/s\u001b[0m eta \u001b[36m0:00:00\u001b[0m\n",
      "\u001b[?25h  Preparing metadata (setup.py) ... \u001b[?25l\u001b[?25hdone\n",
      "\u001b[2K   \u001b[90m━━━━━━━━━━━━━━━━━━━━━━━━━━━━━━━━━━━━━━━━\u001b[0m \u001b[32m84.0/84.0 kB\u001b[0m \u001b[31m1.7 MB/s\u001b[0m eta \u001b[36m0:00:00\u001b[0m\n",
      "\u001b[2K   \u001b[90m━━━━━━━━━━━━━━━━━━━━━━━━━━━━━━━━━━━━━━━━\u001b[0m \u001b[32m491.5/491.5 kB\u001b[0m \u001b[31m9.2 MB/s\u001b[0m eta \u001b[36m0:00:00\u001b[0m\n",
      "\u001b[2K   \u001b[90m━━━━━━━━━━━━━━━━━━━━━━━━━━━━━━━━━━━━━━━━\u001b[0m \u001b[32m116.3/116.3 kB\u001b[0m \u001b[31m5.4 MB/s\u001b[0m eta \u001b[36m0:00:00\u001b[0m\n",
      "\u001b[2K   \u001b[90m━━━━━━━━━━━━━━━━━━━━━━━━━━━━━━━━━━━━━━━━\u001b[0m \u001b[32m193.6/193.6 kB\u001b[0m \u001b[31m11.3 MB/s\u001b[0m eta \u001b[36m0:00:00\u001b[0m\n",
      "\u001b[2K   \u001b[90m━━━━━━━━━━━━━━━━━━━━━━━━━━━━━━━━━━━━━━━━\u001b[0m \u001b[32m143.5/143.5 kB\u001b[0m \u001b[31m8.7 MB/s\u001b[0m eta \u001b[36m0:00:00\u001b[0m\n",
      "\u001b[2K   \u001b[90m━━━━━━━━━━━━━━━━━━━━━━━━━━━━━━━━━━━━━━━━\u001b[0m \u001b[32m194.8/194.8 kB\u001b[0m \u001b[31m8.6 MB/s\u001b[0m eta \u001b[36m0:00:00\u001b[0m\n",
      "\u001b[?25h  Building wheel for seqeval (setup.py) ... \u001b[?25l\u001b[?25hdone\n",
      "\u001b[31mERROR: pip's dependency resolver does not currently take into account all the packages that are installed. This behaviour is the source of the following dependency conflicts.\n",
      "torch 2.6.0+cu124 requires nvidia-cublas-cu12==12.4.5.8; platform_system == \"Linux\" and platform_machine == \"x86_64\", but you have nvidia-cublas-cu12 12.5.3.2 which is incompatible.\n",
      "torch 2.6.0+cu124 requires nvidia-cuda-cupti-cu12==12.4.127; platform_system == \"Linux\" and platform_machine == \"x86_64\", but you have nvidia-cuda-cupti-cu12 12.5.82 which is incompatible.\n",
      "torch 2.6.0+cu124 requires nvidia-cuda-nvrtc-cu12==12.4.127; platform_system == \"Linux\" and platform_machine == \"x86_64\", but you have nvidia-cuda-nvrtc-cu12 12.5.82 which is incompatible.\n",
      "torch 2.6.0+cu124 requires nvidia-cuda-runtime-cu12==12.4.127; platform_system == \"Linux\" and platform_machine == \"x86_64\", but you have nvidia-cuda-runtime-cu12 12.5.82 which is incompatible.\n",
      "torch 2.6.0+cu124 requires nvidia-cudnn-cu12==9.1.0.70; platform_system == \"Linux\" and platform_machine == \"x86_64\", but you have nvidia-cudnn-cu12 9.3.0.75 which is incompatible.\n",
      "torch 2.6.0+cu124 requires nvidia-cufft-cu12==11.2.1.3; platform_system == \"Linux\" and platform_machine == \"x86_64\", but you have nvidia-cufft-cu12 11.2.3.61 which is incompatible.\n",
      "torch 2.6.0+cu124 requires nvidia-curand-cu12==10.3.5.147; platform_system == \"Linux\" and platform_machine == \"x86_64\", but you have nvidia-curand-cu12 10.3.6.82 which is incompatible.\n",
      "torch 2.6.0+cu124 requires nvidia-cusolver-cu12==11.6.1.9; platform_system == \"Linux\" and platform_machine == \"x86_64\", but you have nvidia-cusolver-cu12 11.6.3.83 which is incompatible.\n",
      "torch 2.6.0+cu124 requires nvidia-cusparse-cu12==12.3.1.170; platform_system == \"Linux\" and platform_machine == \"x86_64\", but you have nvidia-cusparse-cu12 12.5.1.3 which is incompatible.\n",
      "torch 2.6.0+cu124 requires nvidia-nvjitlink-cu12==12.4.127; platform_system == \"Linux\" and platform_machine == \"x86_64\", but you have nvidia-nvjitlink-cu12 12.5.82 which is incompatible.\n",
      "gcsfs 2025.3.2 requires fsspec==2025.3.2, but you have fsspec 2025.3.0 which is incompatible.\u001b[0m\u001b[31m\n",
      "\u001b[0m"
     ]
    }
   ],
   "source": [
    "! pip install -q evaluate seqeval"
   ]
  },
  {
   "cell_type": "code",
   "execution_count": null,
   "metadata": {
    "colab": {
     "base_uri": "https://localhost:8080/",
     "height": 487,
     "referenced_widgets": [
      "c5704706e0a64023a01c1bb57af2ba74",
      "bda51be1a801493ea3d0e2dcf712d9d0",
      "509d3c7c47aa4deea6338c4ef8cb6126",
      "3c4e44eaa1b7447dacf6954c81310e52",
      "9cc7207801a44cd1bf797465e82bfd88",
      "a3a14cbd682d45849d308b6b18c80f29",
      "728e1ff30a7d4fc29819e61576b26d83",
      "333af4252bf9493c977242a7dd04c16b",
      "9cb70dd25b0346aaaba5050565a88f6b",
      "13c34b73670346d3b9f94fda38b1278b",
      "19995f4d201b499cb867a1d44a37ad72",
      "9c9bb37e4ff54d0c92fb5e1c723c132b",
      "8be3079bbda44045b6ebfc32ae8900cd",
      "46f642cdc04140769b0481dff25f5b88",
      "bbe4ad12e4ba401b9f0c65a32aa5d5e0",
      "3a7f19c9ce9545a19f772026a44a7f3c",
      "41d0bb1f0b554683a6e3a6dfed53cdb2",
      "0326cfc1809b4654992845b4cc436b6c",
      "be84b39a8bf84f1b9aba11f7a76414c2",
      "593d551a50f446b5a82686a349539738",
      "a2c9cb2486a44a458f0f67b4dc0edd05",
      "513a42c9c0984003bb844e03f7964e6b",
      "b6525abcebbd4801980e64de3b3214ff",
      "0634b17353634a6f845cd313fa74d032",
      "20633705f8744fd8be6205537bde8dbd",
      "d91fb0a643f14759992c77f51c1b126e",
      "ef7c4f4ff2b04eaf9aaeb1fda2a723a9",
      "6927dfecdad94d01bf906c4d4140c3c4",
      "a873226a9b034882bb473e11b6f9fa0b",
      "0ae12b28e0fa4cff9e6609ee258526c8",
      "46e2f9052c4240b8b2ad5f5999f299f6",
      "cfcd7753174b4363a615c014baad93a7",
      "12bdf351fd0f4411963a64c8a842b66c",
      "58de74d931d1420babf9a38397deced5",
      "0a375c948bc14fa28e54330a62515e63",
      "8af210a92d7f4ec48eae6218bf4bc7d8",
      "2a7d226c80b848ab9d9ddef1cd999407",
      "333e06ab90b343238500b1905144cacb",
      "c3e7f7e46e75445faebd4d5533fe6038",
      "fbf6685523f940739e2f422bef4af354",
      "3ce97e1fa3664ed4af27246c8d82c439",
      "f8a8e8a978034b43bdd6d2e0fa4a10b8",
      "a3b0d395acd44e76a301b09813b21725",
      "0ebf44acdb204f9eac34f5f482ecf68b",
      "93fbc469c674429582247a94b0dffc4e",
      "87be04d5863d4d5c9bd28876da7f6ffb",
      "b8f7e02342b149b5b2b70ced20c6c90a",
      "f532c3865dd34990ad059afa2bd19fcf",
      "bae8b8a809bf4065a80dfbdc2aeb98e3",
      "925af8db93954976b725e6bd2882ea30",
      "5bc2e7cd3ad34475b8ee3a9e8016d51a",
      "d32f5a490bfb4d45a1ffe31ff1d179e4",
      "299c076f3cc94f40b8140c809ca4d659",
      "e16556e87b8f463891f946c76db3392d",
      "1fefced9651449289fca2a0856bca06e"
     ]
    },
    "execution": {
     "iopub.execute_input": "2025-04-26T12:08:50.427217Z",
     "iopub.status.busy": "2025-04-26T12:08:50.426065Z",
     "iopub.status.idle": "2025-04-26T12:08:52.168883Z",
     "shell.execute_reply": "2025-04-26T12:08:52.168306Z",
     "shell.execute_reply.started": "2025-04-26T12:08:50.427185Z"
    },
    "id": "DEq3upV7BA0K",
    "outputId": "fc92835b-c2ce-4c8a-9d07-0284ea25e671"
   },
   "outputs": [
    {
     "name": "stderr",
     "output_type": "stream",
     "text": [
      "/usr/local/lib/python3.11/dist-packages/huggingface_hub/utils/_auth.py:94: UserWarning: \n",
      "The secret `HF_TOKEN` does not exist in your Colab secrets.\n",
      "To authenticate with the Hugging Face Hub, create a token in your settings tab (https://huggingface.co/settings/tokens), set it as secret in your Google Colab and restart your session.\n",
      "You will be able to reuse this secret in all of your notebooks.\n",
      "Please note that authentication is recommended but still optional to access public models or datasets.\n",
      "  warnings.warn(\n"
     ]
    },
    {
     "data": {
      "application/vnd.jupyter.widget-view+json": {
       "model_id": "c5704706e0a64023a01c1bb57af2ba74",
       "version_major": 2,
       "version_minor": 0
      },
      "text/plain": [
       "README.md:   0%|          | 0.00/831 [00:00<?, ?B/s]"
      ]
     },
     "metadata": {},
     "output_type": "display_data"
    },
    {
     "data": {
      "application/vnd.jupyter.widget-view+json": {
       "model_id": "9c9bb37e4ff54d0c92fb5e1c723c132b",
       "version_major": 2,
       "version_minor": 0
      },
      "text/plain": [
       "(…)-00000-of-00001-c7d8925a08394859.parquet:   0%|          | 0.00/408k [00:00<?, ?B/s]"
      ]
     },
     "metadata": {},
     "output_type": "display_data"
    },
    {
     "data": {
      "application/vnd.jupyter.widget-view+json": {
       "model_id": "b6525abcebbd4801980e64de3b3214ff",
       "version_major": 2,
       "version_minor": 0
      },
      "text/plain": [
       "(…)-00000-of-00001-997d6ecfa04ccd76.parquet:   0%|          | 0.00/54.8k [00:00<?, ?B/s]"
      ]
     },
     "metadata": {},
     "output_type": "display_data"
    },
    {
     "data": {
      "application/vnd.jupyter.widget-view+json": {
       "model_id": "58de74d931d1420babf9a38397deced5",
       "version_major": 2,
       "version_minor": 0
      },
      "text/plain": [
       "Generating train split:   0%|          | 0/1000 [00:00<?, ? examples/s]"
      ]
     },
     "metadata": {},
     "output_type": "display_data"
    },
    {
     "data": {
      "application/vnd.jupyter.widget-view+json": {
       "model_id": "93fbc469c674429582247a94b0dffc4e",
       "version_major": 2,
       "version_minor": 0
      },
      "text/plain": [
       "Generating test split:   0%|          | 0/100 [00:00<?, ? examples/s]"
      ]
     },
     "metadata": {},
     "output_type": "display_data"
    },
    {
     "data": {
      "text/plain": [
       "DatasetDict({\n",
       "    train: Dataset({\n",
       "        features: ['text', 'ner_tags', 'input_ids', 'attention_mask', 'labels'],\n",
       "        num_rows: 1000\n",
       "    })\n",
       "    test: Dataset({\n",
       "        features: ['text', 'ner_tags', 'input_ids', 'attention_mask', 'labels'],\n",
       "        num_rows: 100\n",
       "    })\n",
       "})"
      ]
     },
     "execution_count": 2,
     "metadata": {},
     "output_type": "execute_result"
    }
   ],
   "source": [
    "from datasets import load_dataset\n",
    "\n",
    "data = load_dataset(\n",
    "    \"theekshana/NER_medical_reports_tokenized_deid_roberta_i2b2\",\n",
    "    cache_dir=\"./data\",\n",
    ")\n",
    "data"
   ]
  },
  {
   "cell_type": "code",
   "execution_count": null,
   "metadata": {
    "execution": {
     "iopub.execute_input": "2025-04-26T12:09:12.309872Z",
     "iopub.status.busy": "2025-04-26T12:09:12.309137Z",
     "iopub.status.idle": "2025-04-26T12:09:15.735884Z",
     "shell.execute_reply": "2025-04-26T12:09:15.735145Z",
     "shell.execute_reply.started": "2025-04-26T12:09:12.309846Z"
    },
    "id": "g4Rl7SzjBA0K"
   },
   "outputs": [],
   "source": [
    "config_labels = [\n",
    "    \"O\",\n",
    "    \"B-ID\",\n",
    "    \"I-ID\",\n",
    "    \"B-DATE\",\n",
    "    \"I-DATE\",\n",
    "    \"B-LOC\",\n",
    "    \"I-LOC\",\n",
    "    \"B-PATIENT\",\n",
    "    \"I-PATIENT\",\n",
    "    \"B-AGE\",\n",
    "    \"I-AGE\",\n",
    "    \"B-PHONE\",\n",
    "    \"I-PHONE\",\n",
    "]\n",
    "label2id = {l: i for i, l in enumerate(config_labels)}\n",
    "id2label = {i: l for l, i in label2id.items()}"
   ]
  },
  {
   "cell_type": "code",
   "execution_count": null,
   "metadata": {
    "colab": {
     "base_uri": "https://localhost:8080/",
     "height": 334,
     "referenced_widgets": [
      "93caf4aca87f42c48f2caa88381cf90a",
      "058c04f27de9488287f5fb60a18c1db3",
      "1d7cca9aff99408a81f1b74603dfddea",
      "81bb6981bd544b48858d0cb7873823ea",
      "17f81386504143b3b36dfbf45fcbb03d",
      "55e862d38823471cb9e078b392657e38",
      "e8fa97e77bcc4c779f991804f1ef1aa5",
      "35c4dc09733242cab1e5d7a1198083c3",
      "bf8b83ce788b482b97d13c52f77632d6",
      "d5da433ae27446f18c948f29fd28d800",
      "36e974853c6141878c5299b11afd1030",
      "44270f4e966749b5bb370b638894d127",
      "49870b5fcee04fb487704855c7549938",
      "0e72c44e1c3a425e9f1bcaeba643d00d",
      "dbb46994fed34c2f9afb0f9d7f83335f",
      "b571be59ea654e53a2d29d8818a251c5",
      "67ddc01d880f4c23802a52f48fabc448",
      "061fb7be954a4388a5f1f0106acd94d9",
      "e42721b623364e28920cbe174530eadb",
      "d8c1ac096d0d4a2d869706e1d82c2228",
      "c9f8eed138bf4beb8e81c181edd2cbe6",
      "8f33f2b5ed18443e980e45566de4259e",
      "3c27ed4a9b5a4bdc889bf92b0b281e88",
      "8a920c97ad0b4157b7c91acf33c9d139",
      "0e36813c37a54ecab65c367bacd5db25",
      "19fff560c2db4fdfb6e06ec1fe94747c",
      "fc7b93c7c7d644d88570dd423aa12dce",
      "e4523adb908244a28713df26b63365b0",
      "52ea5d7ff3d24ad793ac4f5bb0893967",
      "4a5367509ccd4248b7a52a3735a99df2",
      "193ed8bed4214d83b039bd265b4a8b3b",
      "2fb87488428843748960df4d47177c40",
      "5f794eaa555441019d9cbcf60ac5410d",
      "d518cb5d46104854a1c7c0b883ff93da",
      "cd240dda69674d33a0b21e9e2a0a6d3b",
      "feab8d65d47243d6a56644720d815ff1",
      "6af66026dcee4c8eb237f0932bcb58ee",
      "9032ab5024fc453dbeec45d2fcb67110",
      "b9681c0862cb49f3bbbce17ef2a9970e",
      "ff05d177fa1648fea33bf8cd1b8dd423",
      "7337da6272df46629c678f49184f118b",
      "dcf4e5a878074606835dc41f667876f5",
      "499f2bc9f3fe4439a0e56a90338bc2cf",
      "1e485da63a5e42669763fe96780403ea",
      "2c03fad8496447ecb7d969e522aaa320",
      "e9c4e1f416ac4233961970f801cada75",
      "a48af286115a40a7861ef2402bb17f86",
      "8b04a15396054068b6c519419d0faffa",
      "87cd4611f60a47b1b01f4e78da4cf960",
      "dca8e28773ab4ee493d96eaa71c2a04b",
      "60cb3719854f42828dd5b4e91f61b7ab",
      "be2b68b14ea843849f41ca7cadd0ee45",
      "8d28a9c51bc34807ae4c799f671bf340",
      "ba43856082ae4c4fa720fc12491271b1",
      "fcfe770a40504623b2c2a2796b638744",
      "40cd1afdc3424bc6a41de17b583f356a",
      "432fb81036e84f29b81b3e41a7ecf331",
      "d5d02016a370446ba1f609f4fec59b92",
      "cbc8dbee1224483cba84cd3c18534a60",
      "609cc77ad7a14a418c3a208f14f4b987",
      "5f9c8fb6fba04dad95cf73bd80632a75",
      "830cf904fe9943bd882ff065f5f160d5",
      "f094c0e53fa14d00adcb74a23001ff1d",
      "1504b1c86826420791a1946d70c815f6",
      "7c9211f94018469b9b4297aaedce5629",
      "30c7b833e6c541bb8b4be796cc84b62e",
      "db97f4eb6a2244b6b8c37a994099f280",
      "016686d16d174bb28057782dc31dbddb",
      "5de64f2fee3a4c8aa27eedd389d3736e",
      "2c875fc3defd4dd3a005eca59162369a",
      "e573447df4844c509766e229b8df607f",
      "e458f90176664a09b010e4e17ee8eaf0",
      "3afd47e3901f4c79aa340958bd5ccdb1",
      "55f245ef0d094717b0d53bc0e9876515",
      "703940feaf1849b18e311e59e102dc6c",
      "9b50f4dd2d1541e49da0bcf30aa4b211",
      "66c5d47635634af3b90544f5260ac01e"
     ]
    },
    "execution": {
     "iopub.execute_input": "2025-04-26T12:09:26.005331Z",
     "iopub.status.busy": "2025-04-26T12:09:26.005058Z",
     "iopub.status.idle": "2025-04-26T12:09:26.132800Z",
     "shell.execute_reply": "2025-04-26T12:09:26.132212Z",
     "shell.execute_reply.started": "2025-04-26T12:09:26.005310Z"
    },
    "id": "15CePlhLBA0L",
    "outputId": "b32b76b6-90b0-46c2-d0f9-05d7a476448d"
   },
   "outputs": [
    {
     "data": {
      "application/vnd.jupyter.widget-view+json": {
       "model_id": "93caf4aca87f42c48f2caa88381cf90a",
       "version_major": 2,
       "version_minor": 0
      },
      "text/plain": [
       "tokenizer_config.json:   0%|          | 0.00/25.0 [00:00<?, ?B/s]"
      ]
     },
     "metadata": {},
     "output_type": "display_data"
    },
    {
     "data": {
      "application/vnd.jupyter.widget-view+json": {
       "model_id": "44270f4e966749b5bb370b638894d127",
       "version_major": 2,
       "version_minor": 0
      },
      "text/plain": [
       "config.json:   0%|          | 0.00/481 [00:00<?, ?B/s]"
      ]
     },
     "metadata": {},
     "output_type": "display_data"
    },
    {
     "data": {
      "application/vnd.jupyter.widget-view+json": {
       "model_id": "3c27ed4a9b5a4bdc889bf92b0b281e88",
       "version_major": 2,
       "version_minor": 0
      },
      "text/plain": [
       "vocab.json:   0%|          | 0.00/899k [00:00<?, ?B/s]"
      ]
     },
     "metadata": {},
     "output_type": "display_data"
    },
    {
     "data": {
      "application/vnd.jupyter.widget-view+json": {
       "model_id": "d518cb5d46104854a1c7c0b883ff93da",
       "version_major": 2,
       "version_minor": 0
      },
      "text/plain": [
       "merges.txt:   0%|          | 0.00/456k [00:00<?, ?B/s]"
      ]
     },
     "metadata": {},
     "output_type": "display_data"
    },
    {
     "data": {
      "application/vnd.jupyter.widget-view+json": {
       "model_id": "2c03fad8496447ecb7d969e522aaa320",
       "version_major": 2,
       "version_minor": 0
      },
      "text/plain": [
       "tokenizer.json:   0%|          | 0.00/1.36M [00:00<?, ?B/s]"
      ]
     },
     "metadata": {},
     "output_type": "display_data"
    },
    {
     "data": {
      "application/vnd.jupyter.widget-view+json": {
       "model_id": "40cd1afdc3424bc6a41de17b583f356a",
       "version_major": 2,
       "version_minor": 0
      },
      "text/plain": [
       "config.json:   0%|          | 0.00/481 [00:00<?, ?B/s]"
      ]
     },
     "metadata": {},
     "output_type": "display_data"
    },
    {
     "name": "stderr",
     "output_type": "stream",
     "text": [
      "Xet Storage is enabled for this repo, but the 'hf_xet' package is not installed. Falling back to regular HTTP download. For better performance, install the package with: `pip install huggingface_hub[hf_xet]` or `pip install hf_xet`\n",
      "WARNING:huggingface_hub.file_download:Xet Storage is enabled for this repo, but the 'hf_xet' package is not installed. Falling back to regular HTTP download. For better performance, install the package with: `pip install huggingface_hub[hf_xet]` or `pip install hf_xet`\n"
     ]
    },
    {
     "data": {
      "application/vnd.jupyter.widget-view+json": {
       "model_id": "db97f4eb6a2244b6b8c37a994099f280",
       "version_major": 2,
       "version_minor": 0
      },
      "text/plain": [
       "model.safetensors:   0%|          | 0.00/499M [00:00<?, ?B/s]"
      ]
     },
     "metadata": {},
     "output_type": "display_data"
    },
    {
     "name": "stderr",
     "output_type": "stream",
     "text": [
      "Some weights of RobertaForTokenClassification were not initialized from the model checkpoint at roberta-base and are newly initialized: ['classifier.bias', 'classifier.weight']\n",
      "You should probably TRAIN this model on a down-stream task to be able to use it for predictions and inference.\n"
     ]
    }
   ],
   "source": [
    "from transformers import AutoTokenizer, AutoModelForTokenClassification\n",
    "\n",
    "MODEL = \"roberta-base\"\n",
    "tokenizer = AutoTokenizer.from_pretrained(\n",
    "    MODEL,\n",
    "    use_fast=True,\n",
    "    cache_dir=f\"./tokenizer/{MODEL}\",\n",
    ")\n",
    "model = AutoModelForTokenClassification.from_pretrained(\n",
    "    MODEL,\n",
    "    num_labels=len(config_labels),\n",
    "    id2label=id2label,\n",
    "    label2id=label2id,\n",
    "    cache_dir=f\"./model/{MODEL}\",\n",
    ")"
   ]
  },
  {
   "cell_type": "code",
   "execution_count": null,
   "metadata": {
    "colab": {
     "base_uri": "https://localhost:8080/"
    },
    "execution": {
     "iopub.execute_input": "2025-04-26T12:09:35.453784Z",
     "iopub.status.busy": "2025-04-26T12:09:35.453200Z",
     "iopub.status.idle": "2025-04-26T12:09:36.302762Z",
     "shell.execute_reply": "2025-04-26T12:09:36.301962Z",
     "shell.execute_reply.started": "2025-04-26T12:09:35.453753Z"
    },
    "id": "mMvXMFehBA0L",
    "outputId": "2bfacd19-009b-4b30-8411-6e3586a0deca"
   },
   "outputs": [
    {
     "name": "stdout",
     "output_type": "stream",
     "text": [
      "trainable params: 2,747,149 || all params: 126,729,242 || trainable%: 2.1677\n"
     ]
    }
   ],
   "source": [
    "from peft import LoraConfig, TaskType, get_peft_model\n",
    "\n",
    "lora_config = LoraConfig(\n",
    "    task_type=TaskType.TOKEN_CLS,\n",
    "    r=16,\n",
    "    lora_alpha=32,\n",
    "    lora_dropout=0.05,\n",
    "    bias=\"lora_only\",\n",
    "    target_modules=[\n",
    "        \"query\",\n",
    "        \"key\",\n",
    "        \"value\",\n",
    "        \"output.dense\",\n",
    "        \"intermediate.dense\",\n",
    "        \"attention.self.query\",\n",
    "        \"attention.self.key\",\n",
    "        \"attention.self.value\",\n",
    "        \"attention.output.dense\",\n",
    "    ],\n",
    ")\n",
    "\n",
    "model = get_peft_model(model, lora_config)\n",
    "model.print_trainable_parameters()"
   ]
  },
  {
   "cell_type": "code",
   "execution_count": null,
   "metadata": {
    "colab": {
     "base_uri": "https://localhost:8080/",
     "height": 81,
     "referenced_widgets": [
      "85c0855dd5864740bd97b9b8e2f547dd",
      "e33714c416a54098ab4163c5e2eaf6e4",
      "7013eef036c94934b87baabb2175a6f1",
      "be4d32d34d5a46248e7738bfe5cb91bd",
      "c0ba793e902b4f699f348f62e2cbf9b3",
      "51aca685ce774a10ae5569ac1c390499",
      "cb55ba08cce045c1ba8b9d1d7bc51790",
      "2c3b0388dbd34c20b97d972f5b1dc9f9",
      "9ef60b436f21436f861c99acf9b22476",
      "0b5b5eeed6434884ad7fabd9b42dc3ad",
      "07c6f8f6f4ab4d0e8fb77d69c3feffc1",
      "193286cdd265425bb1b1bb876599b4e2",
      "e630597b0cfc45c1b5cbc0b986201adf",
      "1ca01460fa244d498c805b4bc9953e7e",
      "95b301a49e7c48fe84d0696a8b7f2b95",
      "216656a084654e68ab701e2f341e55b1",
      "e8d6721a0506412e8968b283f1474547",
      "765bfa496be3428980ebc95f27df1efa",
      "6682afa1394e453b8a0527c61c12a3d1",
      "a4487a075697464e9e5132fbb3534f71",
      "a375da0f565049ef9f88036323dce7dc",
      "4748be340c1d4338a61e42300977cdf1"
     ]
    },
    "execution": {
     "iopub.execute_input": "2025-04-26T12:10:01.413420Z",
     "iopub.status.busy": "2025-04-26T12:10:01.412841Z",
     "iopub.status.idle": "2025-04-26T12:10:01.682696Z",
     "shell.execute_reply": "2025-04-26T12:10:01.682098Z",
     "shell.execute_reply.started": "2025-04-26T12:10:01.413391Z"
    },
    "id": "_AKkEXm5BA0M",
    "outputId": "9eedb7c9-5ac6-47d3-d916-73584ab90d1e"
   },
   "outputs": [
    {
     "data": {
      "application/vnd.jupyter.widget-view+json": {
       "model_id": "85c0855dd5864740bd97b9b8e2f547dd",
       "version_major": 2,
       "version_minor": 0
      },
      "text/plain": [
       "Map:   0%|          | 0/1000 [00:00<?, ? examples/s]"
      ]
     },
     "metadata": {},
     "output_type": "display_data"
    },
    {
     "data": {
      "application/vnd.jupyter.widget-view+json": {
       "model_id": "193286cdd265425bb1b1bb876599b4e2",
       "version_major": 2,
       "version_minor": 0
      },
      "text/plain": [
       "Map:   0%|          | 0/100 [00:00<?, ? examples/s]"
      ]
     },
     "metadata": {},
     "output_type": "display_data"
    }
   ],
   "source": [
    "from transformers import  DataCollatorForTokenClassification\n",
    "\n",
    "def tokenize_and_align_labels(examples):\n",
    "    tokenized = tokenizer(\n",
    "        examples[\"text\"],\n",
    "        padding=\"max_length\",\n",
    "        truncation=True,\n",
    "        max_length=256,\n",
    "        return_offsets_mapping=True,\n",
    "        is_split_into_words=False,\n",
    "    )\n",
    "    all_labels = []\n",
    "\n",
    "    for i, offsets in enumerate(tokenized[\"offset_mapping\"]):\n",
    "        labels = [\"O\"] * len(offsets)\n",
    "        if \"ner_tags\" in examples and examples[\"ner_tags\"][i]:\n",
    "            spans = examples[\"ner_tags\"][i]\n",
    "            for span in spans:\n",
    "                span_start, span_end, span_label = (\n",
    "                    span[\"start\"],\n",
    "                    span[\"end\"],\n",
    "                    span[\"label\"],\n",
    "                )\n",
    "                if span_label not in [\n",
    "                    \"ID\",\n",
    "                    \"DATE\",\n",
    "                    \"LOC\",\n",
    "                    \"PATIENT\",\n",
    "                    \"AGE\",\n",
    "                    \"PHONE\",\n",
    "                ]:\n",
    "                    continue\n",
    "\n",
    "                token_indices_in_span = []\n",
    "                for idx, (off_start, off_end) in enumerate(offsets):\n",
    "                    if off_start == 0 and off_end == 0:\n",
    "                        continue\n",
    "\n",
    "                    token_starts_in_span = (\n",
    "                        off_start >= span_start and off_start < span_end\n",
    "                    )\n",
    "                    token_ends_in_span = off_end > span_start and off_end <= span_end\n",
    "                    token_contains_span = (\n",
    "                        off_start <= span_start and off_end >= span_end\n",
    "                    )\n",
    "\n",
    "                    if (\n",
    "                        token_starts_in_span\n",
    "                        or token_ends_in_span\n",
    "                        or token_contains_span\n",
    "                    ):\n",
    "                        token_indices_in_span.append(idx)\n",
    "\n",
    "                if token_indices_in_span:\n",
    "                    first_token_idx = token_indices_in_span[0]\n",
    "                    labels[first_token_idx] = \"B-\" + span_label\n",
    "                    for follow_token_idx in token_indices_in_span[1:]:\n",
    "                        labels[follow_token_idx] = \"I-\" + span_label\n",
    "\n",
    "        all_labels.append([label2id.get(l, label2id[\"O\"]) for l in labels])\n",
    "\n",
    "    tokenized[\"labels\"] = all_labels\n",
    "    if \"offset_mapping\" in tokenized:\n",
    "        tokenized.pop(\"offset_mapping\")\n",
    "    return tokenized\n",
    "\n",
    "\n",
    "tokenized_ds = data.map(\n",
    "    tokenize_and_align_labels,\n",
    "    batched=True,\n",
    "    remove_columns=data[\"train\"].column_names,\n",
    ")\n",
    "\n",
    "data_collator = DataCollatorForTokenClassification(tokenizer)"
   ]
  },
  {
   "cell_type": "code",
   "execution_count": null,
   "metadata": {
    "colab": {
     "base_uri": "https://localhost:8080/",
     "height": 49,
     "referenced_widgets": [
      "76a06c839d47465eb9c8c7c3004ce3b7",
      "054429d739914ed8ae7e3bf99e43b36f",
      "311ef428ab2a434ba960189bcba6febc",
      "1c678f4119f543958a8853bc8a52aac2",
      "ee9e0d67363a418486f8e5f61b9f8965",
      "5552a4b404aa46ad8b118f63e78d9e4a",
      "3fc08c2cfefb44be9ed97bf7d2f1e800",
      "d4836b0561824a30ba13db955c234c7d",
      "c03b3363f0614f33b84d6b90f45f9230",
      "6068391746444f3981438054b8649d4a",
      "d25c8c8fc8a9411f9f26a09725d28156"
     ]
    },
    "execution": {
     "iopub.execute_input": "2025-04-26T12:10:42.666323Z",
     "iopub.status.busy": "2025-04-26T12:10:42.665616Z",
     "iopub.status.idle": "2025-04-26T12:10:42.691715Z",
     "shell.execute_reply": "2025-04-26T12:10:42.691172Z",
     "shell.execute_reply.started": "2025-04-26T12:10:42.666299Z"
    },
    "id": "0wN_tvIcBA0M",
    "outputId": "399bc8ff-2795-402f-b57a-62d0c628499b"
   },
   "outputs": [
    {
     "data": {
      "application/vnd.jupyter.widget-view+json": {
       "model_id": "76a06c839d47465eb9c8c7c3004ce3b7",
       "version_major": 2,
       "version_minor": 0
      },
      "text/plain": [
       "Downloading builder script:   0%|          | 0.00/6.34k [00:00<?, ?B/s]"
      ]
     },
     "metadata": {},
     "output_type": "display_data"
    }
   ],
   "source": [
    "import evaluate\n",
    "import numpy as np\n",
    "\n",
    "seqeval = evaluate.load(\"seqeval\")\n",
    "\n",
    "\n",
    "def compute_metrics(p):\n",
    "    predictions, labels = p\n",
    "    predictions = np.argmax(predictions, axis=2)\n",
    "\n",
    "    true_labels = [[id2label[l] for l in label if l != -100] for label in labels]\n",
    "    true_predictions = [\n",
    "        [id2label[p] for (p, l) in zip(prediction, label) if l != -100]\n",
    "        for prediction, label in zip(predictions, labels)\n",
    "    ]\n",
    "\n",
    "    results = seqeval.compute(\n",
    "        predictions=true_predictions, references=true_labels, scheme=\"IOB2\"\n",
    "    )\n",
    "\n",
    "    return {\n",
    "        \"precision\": results[\"overall_precision\"],\n",
    "        \"recall\": results[\"overall_recall\"],\n",
    "        \"f1\": results[\"overall_f1\"],\n",
    "        \"accuracy\": results[\"overall_accuracy\"],\n",
    "    }"
   ]
  },
  {
   "cell_type": "code",
   "execution_count": null,
   "metadata": {
    "colab": {
     "base_uri": "https://localhost:8080/"
    },
    "execution": {
     "execution_failed": "2025-04-26T12:12:08.449Z",
     "iopub.execute_input": "2025-04-26T12:11:33.329493Z",
     "iopub.status.busy": "2025-04-26T12:11:33.329218Z"
    },
    "id": "HgIC1hskBA0M",
    "outputId": "3c435664-ea02-4bd9-d7e6-146fabf57b75"
   },
   "outputs": [
    {
     "name": "stderr",
     "output_type": "stream",
     "text": [
      "No label_names provided for model class `PeftModelForTokenClassification`. Since `PeftModel` hides base models input arguments, if label_names is not given, label_names can't be set automatically within `Trainer`. Note that empty label_names list will be used instead.\n"
     ]
    }
   ],
   "source": [
    "from transformers import TrainingArguments, Trainer, EarlyStoppingCallback\n",
    "\n",
    "training_args = TrainingArguments(\n",
    "    output_dir=\"ner-medical-bert-lora-improved\",\n",
    "    per_device_train_batch_size=16,\n",
    "    per_device_eval_batch_size=16,\n",
    "    num_train_epochs=5,\n",
    "    learning_rate=2e-4,\n",
    "    weight_decay=0.01,\n",
    "    logging_dir=\"./logs\",\n",
    "    logging_strategy=\"epoch\",\n",
    "    eval_strategy=\"epoch\",\n",
    "    save_strategy=\"epoch\",\n",
    "    save_total_limit=2,\n",
    "    load_best_model_at_end=True,\n",
    "    metric_for_best_model=\"f1\",\n",
    "    greater_is_better=True,\n",
    "    warmup_steps=500,\n",
    "    fp16=True,\n",
    "    report_to=\"none\",\n",
    ")\n",
    "\n",
    "trainer = Trainer(\n",
    "    model=model,\n",
    "    args=training_args,\n",
    "    train_dataset=tokenized_ds[\"train\"],\n",
    "    eval_dataset=tokenized_ds[\"test\"],\n",
    "    processing_class=tokenizer,\n",
    "    data_collator=data_collator,\n",
    "    compute_metrics=compute_metrics,\n",
    "    callbacks=[EarlyStoppingCallback(early_stopping_patience=2)],\n",
    ")"
   ]
  },
  {
   "cell_type": "code",
   "execution_count": null,
   "metadata": {
    "colab": {
     "base_uri": "https://localhost:8080/",
     "height": 200
    },
    "id": "3zuBsTdgsgrG",
    "outputId": "a6cf2060-416c-4e5d-b948-0cbcd985f268"
   },
   "outputs": [
    {
     "data": {
      "text/html": [
       "\n",
       "    <div>\n",
       "      \n",
       "      <progress value='7' max='7' style='width:300px; height:20px; vertical-align: middle;'></progress>\n",
       "      [7/7 00:00]\n",
       "    </div>\n",
       "    "
      ],
      "text/plain": [
       "<IPython.core.display.HTML object>"
      ]
     },
     "metadata": {},
     "output_type": "display_data"
    },
    {
     "name": "stdout",
     "output_type": "stream",
     "text": [
      "eval_loss: 2.6885\n",
      "eval_model_preparation_time: 0.0085\n",
      "eval_precision: 0.0000\n",
      "eval_recall: 0.0000\n",
      "eval_f1: 0.0000\n",
      "eval_accuracy: 0.0017\n",
      "eval_runtime: 1.6520\n",
      "eval_samples_per_second: 60.5340\n",
      "eval_steps_per_second: 4.2370\n"
     ]
    }
   ],
   "source": [
    "pre_train_eval = trainer.evaluate(tokenized_ds[\"test\"])\n",
    "for key, value in pre_train_eval.items():\n",
    "    print(f\"{key}: {value:.4f}\")"
   ]
  },
  {
   "cell_type": "code",
   "execution_count": null,
   "metadata": {
    "colab": {
     "base_uri": "https://localhost:8080/",
     "height": 413,
     "referenced_widgets": [
      "1585c5ae77dd42f59d51484c5c2a4d4b",
      "88064c55d8934b4391312b7181cb70cc",
      "246aa9f9111e4a07afa2d16570d5fdff",
      "3631e09860a64547800ff02fa2b840a7",
      "90f8e594108f4ad48edb14b247031bc4",
      "10a6b11a651f43bf9d8caca54d8259ef",
      "e944a46bb692436a9282c5c1eaf65c40",
      "9b1389414bfd46d686b80e272e7c98b2",
      "139e104918924108aed952ce551b383b",
      "30c2531a51bb4e0584dbf401fd85842a",
      "7df3b0548cc5497190fc3063f88f811d"
     ]
    },
    "id": "QWTSVpPgsngO",
    "outputId": "507f31fe-21c7-48fc-e35e-beefaedf6075"
   },
   "outputs": [
    {
     "data": {
      "text/html": [
       "\n",
       "    <div>\n",
       "      \n",
       "      <progress value='315' max='315' style='width:300px; height:20px; vertical-align: middle;'></progress>\n",
       "      [315/315 01:26, Epoch 5/5]\n",
       "    </div>\n",
       "    <table border=\"1\" class=\"dataframe\">\n",
       "  <thead>\n",
       " <tr style=\"text-align: left;\">\n",
       "      <th>Epoch</th>\n",
       "      <th>Training Loss</th>\n",
       "      <th>Validation Loss</th>\n",
       "      <th>Model Preparation Time</th>\n",
       "      <th>Precision</th>\n",
       "      <th>Recall</th>\n",
       "      <th>F1</th>\n",
       "      <th>Accuracy</th>\n",
       "    </tr>\n",
       "  </thead>\n",
       "  <tbody>\n",
       "    <tr>\n",
       "      <td>1</td>\n",
       "      <td>2.487700</td>\n",
       "      <td>1.662677</td>\n",
       "      <td>0.008500</td>\n",
       "      <td>0.000000</td>\n",
       "      <td>0.000000</td>\n",
       "      <td>0.000000</td>\n",
       "      <td>0.878594</td>\n",
       "    </tr>\n",
       "    <tr>\n",
       "      <td>2</td>\n",
       "      <td>0.568800</td>\n",
       "      <td>0.246932</td>\n",
       "      <td>0.008500</td>\n",
       "      <td>0.060547</td>\n",
       "      <td>0.038750</td>\n",
       "      <td>0.047256</td>\n",
       "      <td>0.919844</td>\n",
       "    </tr>\n",
       "    <tr>\n",
       "      <td>3</td>\n",
       "      <td>0.152200</td>\n",
       "      <td>0.039990</td>\n",
       "      <td>0.008500</td>\n",
       "      <td>0.996255</td>\n",
       "      <td>0.997500</td>\n",
       "      <td>0.996877</td>\n",
       "      <td>0.994687</td>\n",
       "    </tr>\n",
       "    <tr>\n",
       "      <td>4</td>\n",
       "      <td>0.019600</td>\n",
       "      <td>0.001912</td>\n",
       "      <td>0.008500</td>\n",
       "      <td>1.000000</td>\n",
       "      <td>1.000000</td>\n",
       "      <td>1.000000</td>\n",
       "      <td>1.000000</td>\n",
       "    </tr>\n",
       "    <tr>\n",
       "      <td>5</td>\n",
       "      <td>0.003000</td>\n",
       "      <td>0.000547</td>\n",
       "      <td>0.008500</td>\n",
       "      <td>1.000000</td>\n",
       "      <td>1.000000</td>\n",
       "      <td>1.000000</td>\n",
       "      <td>1.000000</td>\n",
       "    </tr>\n",
       "  </tbody>\n",
       "</table><p>"
      ],
      "text/plain": [
       "<IPython.core.display.HTML object>"
      ]
     },
     "metadata": {},
     "output_type": "display_data"
    },
    {
     "data": {
      "text/html": [
       "\n",
       "    <div>\n",
       "      \n",
       "      <progress value='14' max='7' style='width:300px; height:20px; vertical-align: middle;'></progress>\n",
       "      [7/7 00:34]\n",
       "    </div>\n",
       "    "
      ],
      "text/plain": [
       "<IPython.core.display.HTML object>"
      ]
     },
     "metadata": {},
     "output_type": "display_data"
    },
    {
     "name": "stderr",
     "output_type": "stream",
     "text": [
      "/usr/local/lib/python3.11/dist-packages/seqeval/metrics/v1.py:57: UndefinedMetricWarning: Precision and F-score are ill-defined and being set to 0.0 in labels with no predicted samples. Use `zero_division` parameter to control this behavior.\n",
      "  _warn_prf(average, modifier, msg_start, len(result))\n"
     ]
    },
    {
     "data": {
      "application/vnd.jupyter.widget-view+json": {
       "model_id": "1585c5ae77dd42f59d51484c5c2a4d4b",
       "version_major": 2,
       "version_minor": 0
      },
      "text/plain": [
       "config.json:   0%|          | 0.00/481 [00:00<?, ?B/s]"
      ]
     },
     "metadata": {},
     "output_type": "display_data"
    },
    {
     "name": "stderr",
     "output_type": "stream",
     "text": [
      "/usr/local/lib/python3.11/dist-packages/seqeval/metrics/v1.py:57: UndefinedMetricWarning: Precision and F-score are ill-defined and being set to 0.0 in labels with no predicted samples. Use `zero_division` parameter to control this behavior.\n",
      "  _warn_prf(average, modifier, msg_start, len(result))\n"
     ]
    },
    {
     "data": {
      "text/plain": [
       "TrainOutput(global_step=315, training_loss=0.6462494570584524, metrics={'train_runtime': 86.7997, 'train_samples_per_second': 57.604, 'train_steps_per_second': 3.629, 'total_flos': 673767951360000.0, 'train_loss': 0.6462494570584524, 'epoch': 5.0})"
      ]
     },
     "execution_count": 10,
     "metadata": {},
     "output_type": "execute_result"
    }
   ],
   "source": [
    "trainer.train()"
   ]
  },
  {
   "cell_type": "code",
   "execution_count": null,
   "metadata": {
    "colab": {
     "base_uri": "https://localhost:8080/",
     "height": 410
    },
    "id": "aSDXLByVCOQr",
    "outputId": "8e1bb1c6-67bc-408d-8602-e768394a63e7"
   },
   "outputs": [
    {
     "data": {
      "image/png": "[encoded data removed]",
      "text/plain": [
       "<Figure size 600x400 with 1 Axes>"
      ]
     },
     "metadata": {},
     "output_type": "display_data"
    }
   ],
   "source": [
    "import matplotlib.pyplot as plt\n",
    "\n",
    "logs = trainer.state.log_history\n",
    "\n",
    "epochs = []\n",
    "losses = []\n",
    "eval_losses = []\n",
    "precisions = []\n",
    "recalls = []\n",
    "f1s = []\n",
    "accuracies = []\n",
    "\n",
    "for entry in logs:\n",
    "    if \"loss\" in entry and \"eval_loss\" not in entry:\n",
    "        epochs.append(entry[\"epoch\"])\n",
    "        losses.append(entry[\"loss\"])\n",
    "    if \"eval_loss\" in entry:\n",
    "        eval_losses.append(entry[\"eval_loss\"])\n",
    "        precisions.append(entry[\"eval_precision\"])\n",
    "        recalls.append(entry[\"eval_recall\"])\n",
    "        f1s.append(entry[\"eval_f1\"])\n",
    "        accuracies.append(entry[\"eval_accuracy\"])\n",
    "\n",
    "plt.figure(figsize=(6, 4))\n",
    "plt.plot(epochs, losses, label=\"Training Loss\")\n",
    "plt.plot(epochs, eval_losses, label=\"Validation Loss\")\n",
    "plt.xlabel(\"Epoch\")\n",
    "plt.ylabel(\"Loss\")\n",
    "plt.title(\"Training and Validation Loss per Epoch\")\n",
    "plt.legend()\n",
    "plt.grid(True, lw=0.7, linestyle=\"--\")\n",
    "plt.show()"
   ]
  },
  {
   "cell_type": "code",
   "execution_count": null,
   "metadata": {
    "colab": {
     "base_uri": "https://localhost:8080/"
    },
    "execution": {
     "iopub.execute_input": "2025-04-26T11:58:15.406108Z",
     "iopub.status.busy": "2025-04-26T11:58:15.405300Z",
     "iopub.status.idle": "2025-04-26T12:01:23.913132Z",
     "shell.execute_reply": "2025-04-26T12:01:23.912223Z",
     "shell.execute_reply.started": "2025-04-26T11:58:15.406082Z"
    },
    "id": "hFlXjQc6BA0M",
    "outputId": "f28bddf4-d129-414c-9e49-448da8a5e6ff"
   },
   "outputs": [
    {
     "data": {
      "text/plain": [
       "('results/roberta-base-tokenizer/tokenizer_config.json',\n",
       " 'results/roberta-base-tokenizer/special_tokens_map.json',\n",
       " 'results/roberta-base-tokenizer/vocab.json',\n",
       " 'results/roberta-base-tokenizer/merges.txt',\n",
       " 'results/roberta-base-tokenizer/added_tokens.json',\n",
       " 'results/roberta-base-tokenizer/tokenizer.json')"
      ]
     },
     "execution_count": 12,
     "metadata": {},
     "output_type": "execute_result"
    }
   ],
   "source": [
    "model.save_pretrained(f\"results/{MODEL}-model\")\n",
    "tokenizer.save_pretrained(f\"results/{MODEL}-tokenizer\")"
   ]
  },
  {
   "cell_type": "code",
   "execution_count": null,
   "metadata": {
    "colab": {
     "base_uri": "https://localhost:8080/",
     "height": 219
    },
    "id": "KE9BHpuVoGiG",
    "outputId": "82d596d3-cfb5-4eb4-9be8-b3b74c03d634"
   },
   "outputs": [
    {
     "data": {
      "text/html": [
       "\n",
       "    <div>\n",
       "      \n",
       "      <progress value='7' max='7' style='width:300px; height:20px; vertical-align: middle;'></progress>\n",
       "      [7/7 00:00]\n",
       "    </div>\n",
       "    "
      ],
      "text/plain": [
       "<IPython.core.display.HTML object>"
      ]
     },
     "metadata": {},
     "output_type": "display_data"
    },
    {
     "name": "stdout",
     "output_type": "stream",
     "text": [
      "eval_loss: 0.0019\n",
      "eval_model_preparation_time: 0.0085\n",
      "eval_precision: 1.0000\n",
      "eval_recall: 1.0000\n",
      "eval_f1: 1.0000\n",
      "eval_accuracy: 1.0000\n",
      "eval_runtime: 0.8708\n",
      "eval_samples_per_second: 114.8320\n",
      "eval_steps_per_second: 8.0380\n",
      "epoch: 5.0000\n"
     ]
    }
   ],
   "source": [
    "evaluation = trainer.evaluate(tokenized_ds[\"test\"])\n",
    "for key, value in evaluation.items():\n",
    "    print(f\"{key}: {value:.4f}\")"
   ]
  },
  {
   "cell_type": "code",
   "execution_count": null,
   "metadata": {
    "colab": {
     "base_uri": "https://localhost:8080/",
     "height": 603
    },
    "id": "wf35ipseDbhI",
    "outputId": "bd07196d-4109-400b-812c-0f9ae501e362"
   },
   "outputs": [
    {
     "data": {
      "text/html": [],
      "text/plain": [
       "<IPython.core.display.HTML object>"
      ]
     },
     "metadata": {},
     "output_type": "display_data"
    },
    {
     "data": {
      "image/png": "[encoded data removed]",
      "text/plain": [
       "<Figure size 600x600 with 2 Axes>"
      ]
     },
     "metadata": {},
     "output_type": "display_data"
    },
    {
     "data": {
      "text/plain": [
       "<Figure size 640x480 with 0 Axes>"
      ]
     },
     "metadata": {},
     "output_type": "display_data"
    }
   ],
   "source": [
    "import numpy as np\n",
    "from sklearn.metrics import confusion_matrix, ConfusionMatrixDisplay\n",
    "\n",
    "predictions_output = trainer.predict(tokenized_ds[\"test\"])\n",
    "predictions = predictions_output.predictions\n",
    "labels = predictions_output.label_ids\n",
    "predictions = np.argmax(predictions, axis=2)\n",
    "\n",
    "true_labels_flat = []\n",
    "predicted_labels_flat = []\n",
    "\n",
    "for i in range(len(labels)):\n",
    "    for j in range(len(labels[i])):\n",
    "        if labels[i][j] != -100:\n",
    "            true_labels_flat.append(id2label[labels[i][j]])\n",
    "            predicted_labels_flat.append(id2label[predictions[i][j]])\n",
    "\n",
    "non_o_labels = [label for label in config_labels if label != \"O\"]\n",
    "non_o_labels = [label for label in non_o_labels if label != \"I-AGE\"]\n",
    "\n",
    "cm = confusion_matrix(true_labels_flat, predicted_labels_flat, labels=non_o_labels)\n",
    "disp = ConfusionMatrixDisplay(confusion_matrix=cm, display_labels=non_o_labels)\n",
    "\n",
    "fig, ax = plt.subplots(figsize=(6, 6))\n",
    "disp.plot(ax=ax, xticks_rotation='vertical', include_values=True, values_format='d')\n",
    "plt.title(\"Confusion Matrix for NER\")\n",
    "plt.xlabel(\"Predicted Label\")\n",
    "plt.ylabel(\"True Label\")\n",
    "plt.tight_layout()\n",
    "plt.show()\n",
    "plt.savefig(\"confusion_matrix_no_O.png\")"
   ]
  },
  {
   "cell_type": "code",
   "execution_count": null,
   "metadata": {
    "colab": {
     "base_uri": "https://localhost:8080/"
    },
    "execution": {
     "iopub.execute_input": "2025-04-26T12:02:28.423459Z",
     "iopub.status.busy": "2025-04-26T12:02:28.422806Z",
     "iopub.status.idle": "2025-04-26T12:02:28.618966Z",
     "shell.execute_reply": "2025-04-26T12:02:28.618282Z",
     "shell.execute_reply.started": "2025-04-26T12:02:28.423432Z"
    },
    "id": "OqhKhGWvBA0N",
    "outputId": "741ff272-67dc-41be-a9ed-c30dcfa4c3a9"
   },
   "outputs": [
    {
     "name": "stdout",
     "output_type": "stream",
     "text": [
      "\n",
      "--- Predicting for Test Sample Index: 99 ---\n",
      "\n",
      "Original Text:\n",
      "locale: nb\n",
      "noteType: clinical note\n",
      "translatedNoteType: journalnotat\n",
      "givenName: Samir\n",
      "familyName: Wilberg\n",
      "age: 74\n",
      "phoneNumber: +4758127187\n",
      "city: Ormåsen\n",
      "healthCareUnit: Helse Bergen HF Rehabiliteringsklinikken- poliklinikk\n",
      "diagnosis: M02351 Reiter's disease\n",
      "birthDate: November 25. 1948\n",
      "admissionDate: April 04. 2017\n",
      "socialSecurityNumber: 658027 99065\n",
      "findings: ['clear signs of dehydration', 'regular pulse', 'elevated core temperature', 'shallow breathing', 'high blood pressure', 'full mobility', 'moderate pain']\n",
      "\n",
      "--- Predicted Entities ---\n",
      "Name: Samir, Wilberg\n",
      "Age: 74\n",
      "Phone: +4758127187\n",
      "Location: Ormåsen\n",
      "Date: November 25. 1948, April 04. 2017\n",
      "ID: 658027 99065\n",
      "\n",
      "--- Real Entities ---\n",
      "Name: Samir, Wilberg\n",
      "Age: 74\n",
      "Phone: +4758127187\n",
      "Location: Ormåsen\n",
      "Date: November 25. 1948, April 04. 2017\n",
      "ID: 658027 99065\n",
      "--------------------------------\n"
     ]
    }
   ],
   "source": [
    "import torch\n",
    "from collections import defaultdict\n",
    "\n",
    "def predict_and_format(idx):\n",
    "    if idx >= len(data['test']):\n",
    "        print(f\"Error: Index {idx} out of bounds for test set (size: {len(ds['test'])}).\")\n",
    "        return\n",
    "\n",
    "    print(f\"\\n--- Predicting for Test Sample Index: {idx} ---\")\n",
    "\n",
    "    original_sample = data['test'][idx]\n",
    "    original_text = original_sample['text']\n",
    "    true_spans = original_sample['ner_tags']\n",
    "\n",
    "    tokenized_sample = tokenized_ds['test'][idx]\n",
    "    input_ids = torch.tensor([tokenized_sample['input_ids']]).to(trainer.model.device)\n",
    "    attention_mask = torch.tensor([tokenized_sample['attention_mask']]).to(trainer.model.device)\n",
    "\n",
    "    with torch.no_grad():\n",
    "        outputs = trainer.model(input_ids=input_ids, attention_mask=attention_mask)\n",
    "        logits = outputs.logits\n",
    "        predictions = torch.argmax(logits, dim=2)\n",
    "\n",
    "    predicted_label_ids = predictions[0].cpu().numpy()\n",
    "    input_ids = input_ids[0].cpu().numpy()\n",
    "    tokens = tokenizer.convert_ids_to_tokens(input_ids)\n",
    "    special_tokens_mask = tokenizer.get_special_tokens_mask(input_ids, already_has_special_tokens=True)\n",
    "\n",
    "    predicted_entities = defaultdict(list)\n",
    "    current_entity_tokens = []\n",
    "    current_entity_label = \"O\"\n",
    "\n",
    "    for i, token_id in enumerate(input_ids):\n",
    "        if attention_mask[0][i] == 0 or special_tokens_mask[i] == 1:\n",
    "            if current_entity_tokens:\n",
    "                entity_text = tokenizer.decode(current_entity_tokens, skip_special_tokens=True)\n",
    "                predicted_entities[current_entity_label].append(entity_text.strip())\n",
    "                current_entity_tokens = []\n",
    "                current_entity_label = \"O\"\n",
    "            continue\n",
    "\n",
    "        predicted_label = id2label[predicted_label_ids[i]]\n",
    "\n",
    "        if predicted_label.startswith(\"B-\"):\n",
    "            if current_entity_tokens:\n",
    "                entity_text = tokenizer.decode(current_entity_tokens, skip_special_tokens=True)\n",
    "                predicted_entities[current_entity_label].append(entity_text.strip())\n",
    "\n",
    "            current_entity_label = predicted_label[2:]\n",
    "            current_entity_tokens = [token_id]\n",
    "        elif predicted_label.startswith(\"I-\"):\n",
    "            label_type = predicted_label[2:]\n",
    "            if label_type == current_entity_label and current_entity_tokens:\n",
    "                current_entity_tokens.append(token_id)\n",
    "            else:\n",
    "                if current_entity_tokens:\n",
    "                    entity_text = tokenizer.decode(current_entity_tokens, skip_special_tokens=True)\n",
    "                    predicted_entities[current_entity_label].append(entity_text.strip())\n",
    "                    current_entity_tokens = []\n",
    "                    current_entity_label = \"O\"\n",
    "        else:\n",
    "            if current_entity_tokens:\n",
    "                entity_text = tokenizer.decode(current_entity_tokens, skip_special_tokens=True)\n",
    "                predicted_entities[current_entity_label].append(entity_text.strip())\n",
    "                current_entity_tokens = []\n",
    "                current_entity_label = \"O\"\n",
    "\n",
    "    if current_entity_tokens:\n",
    "        entity_text = tokenizer.decode(current_entity_tokens, skip_special_tokens=True)\n",
    "        predicted_entities[current_entity_label].append(entity_text.strip())\n",
    "\n",
    "    real_entities = defaultdict(list)\n",
    "    for span in true_spans:\n",
    "        start, end, label = span['start'], span['end'], span['label']\n",
    "        if label in [\"ID\", \"DATE\", \"LOC\", \"PATIENT\", \"AGE\", \"PHONE\"]:\n",
    "            real_entities[label].append(original_text[start:end])\n",
    "\n",
    "    print(\"\\nOriginal Text:\")\n",
    "    print(original_text)\n",
    "\n",
    "    print(\"\\n--- Predicted Entities ---\")\n",
    "    if not predicted_entities:\n",
    "        print(\"No entities predicted.\")\n",
    "    else:\n",
    "        for label, texts in predicted_entities.items():\n",
    "            label_map = {\"PATIENT\": \"Name\", \"AGE\": \"Age\", \"DATE\": \"Date\", \"ID\": \"ID\", \"LOC\": \"Location\", \"PHONE\": \"Phone\"}\n",
    "            print(f\"{label_map.get(label, label)}: {', '.join(texts)}\")\n",
    "\n",
    "    print(\"\\n--- Real Entities ---\")\n",
    "    if not real_entities:\n",
    "        print(\"No entities in ground truth.\")\n",
    "    else:\n",
    "        for label, texts in real_entities.items():\n",
    "            label_map = {\"PATIENT\": \"Name\", \"AGE\": \"Age\", \"DATE\": \"Date\", \"ID\": \"ID\", \"LOC\": \"Location\", \"PHONE\": \"Phone\"}\n",
    "            print(f\"{label_map.get(label, label)}: {', '.join(texts)}\")\n",
    "\n",
    "    print(\"-\" * (30 + len(str(idx))))\n",
    "\n",
    "predict_and_format(i)"
   ]
  }
 ],
 "metadata": {
  "accelerator": "GPU",
  "colab": {
   "gpuType": "T4",
   "provenance": []
  },
  "kaggle": {
   "accelerator": "gpu",
   "dataSources": [],
   "dockerImageVersionId": 31012,
   "isGpuEnabled": true,
   "isInternetEnabled": true,
   "language": "python",
   "sourceType": "notebook"
  },
  "kernelspec": {
   "display_name": "Python 3",
   "name": "python3"
  },
  "language_info": {
   "codemirror_mode": {
    "name": "ipython",
    "version": 3
   },
   "file_extension": ".py",
   "mimetype": "text/x-python",
   "name": "python",
   "nbconvert_exporter": "python",
   "pygments_lexer": "ipython3",
   "version": "3.11.11"
  }
 },
 "nbformat": 4,
 "nbformat_minor": 0
}
